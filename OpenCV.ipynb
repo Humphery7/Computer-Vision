{
 "cells": [
  {
   "cell_type": "markdown",
   "id": "ec430ec0",
   "metadata": {},
   "source": [
    "## Intro to OpenCV"
   ]
  },
  {
   "cell_type": "code",
   "execution_count": 1,
   "id": "14fd4217",
   "metadata": {},
   "outputs": [],
   "source": [
    "import cv2\n",
    "import numpy as np"
   ]
  },
  {
   "cell_type": "code",
   "execution_count": 20,
   "id": "332749ca",
   "metadata": {},
   "outputs": [],
   "source": [
    "image = cv2.imread('pictures/camera roll/20220112_123146.jpg')\n",
    "cv2.imshow(\"Hey human\",image)\n",
    "\n",
    "cv2.waitKey()\n",
    "cv2.destroyAllWindows()\n",
    "\n",
    "image.shape\n",
    "print(f\"height of image : {image.shape[0]} pixels\")\n",
    "\n",
    "# saving an image\n",
    "\n",
    "# cv2.imwrite('image_test.jpg',image)"
   ]
  },
  {
   "cell_type": "markdown",
   "id": "ec291645",
   "metadata": {},
   "source": [
    "## Face and Eye Detection Using HAAR Cascade Classifiers"
   ]
  },
  {
   "cell_type": "code",
   "execution_count": 10,
   "id": "a37a0b7d",
   "metadata": {},
   "outputs": [],
   "source": [
    "import warnings\n",
    "warnings.filterwarnings('ignore')\n",
    "\n",
    "face_classifier = cv2.CascadeClassifier(\"documents/datasets for data science/openCV/haarcascade_frontalface_default.xml\")\n",
    "eye_classifier = cv2.CascadeClassifier(\"documents/datasets for data science/openCV/haarcascade_eye.xml\")\n",
    "\n",
    "gerald_image = cv2.imread('documents/hardware/saved pictures/scan0015.jpg')\n",
    "gray = cv2.cvtColor(gerald_image,cv2.COLOR_BGR2GRAY)\n",
    "\n",
    "faces = face_classifier.detectMultiScale(gray, 1.3, 5)\n",
    "\n",
    "if faces is ():\n",
    "    print(\"No faces found\")\n",
    "    \n",
    "for (x,y,w,h) in faces:\n",
    "    cv2.rectangle(gerald_image, (x,y), (x+w,y+h), (127,200,255),2) #2 here rep thickness\n",
    "    cv2.imshow('Face Detection',gerald_image)\n",
    "    cv2.waitKey(0)\n",
    "    rol_gray = gray[y:y+h,x:x+w]\n",
    "    rol_color = gerald_image[y:y+h,x:x+w]\n",
    "    eyes = eye_classifier.detectMultiScale(rol_gray)\n",
    "    for (ex,ey,ew,eh) in eyes:\n",
    "        cv2.rectangle(rol_color, (ex,ey), (ex+ew,ey+eh), (127,200,255),2) \n",
    "        cv2.imshow(\"eye detection\",gerald_image)\n",
    "        cv2.waitKey(0)\n",
    "    \n",
    "cv2.destroyAllWindows()"
   ]
  },
  {
   "cell_type": "markdown",
   "id": "9ab3c55f",
   "metadata": {},
   "source": [
    "## Face and Eye Detection From Videos"
   ]
  },
  {
   "cell_type": "code",
   "execution_count": 50,
   "id": "04f65530",
   "metadata": {},
   "outputs": [],
   "source": [
    "def detect(gray,frame): #function for face and eye detection\n",
    "    faces = face_classifier.detectMultiScale(gray, 1.3, 5)\n",
    "    \n",
    "    for (x,y,w,h) in faces:\n",
    "        cv2.rectangle(frame, (x,y), (x+w,y+h), (127,200,255),2)\n",
    "        rol_gray = gray[y:y+h,x:x+w]\n",
    "        rol_color = frame[y:y+h,x:x+w]\n",
    "        eyes = eye_classifier.detectMultiScale(rol_gray)\n",
    "        for (ex,ey,ew,eh) in eyes:\n",
    "            cv2.rectangle(rol_color, (ex,ey), (ex+ew,ey+eh), (127,200,255),2)\n",
    "          \n",
    "    return frame"
   ]
  },
  {
   "cell_type": "code",
   "execution_count": 49,
   "id": "0c44a4a3",
   "metadata": {},
   "outputs": [],
   "source": [
    "video_capture = cv2.VideoCapture(0)\n",
    "\n",
    "while True:\n",
    "    _, frame = video_capture.read() #we only need latter returned object so we specify first as _\n",
    "    gray =cv2.cvtColor(frame, cv2.COLOR_BGR2GRAY) \n",
    "    canvas = detect(gray,frame)\n",
    "    cv2.imshow(\"Video\",canvas)\n",
    "    if cv2.waitKey(1) & 0xFF == ord('q'): #detection is stopped only if we press 'q' key\n",
    "        break\n",
    "        \n",
    "video_capture.release()\n",
    "cv2.destroyAllWindows()"
   ]
  },
  {
   "cell_type": "markdown",
   "id": "67f4932a",
   "metadata": {},
   "source": [
    "## FullBody Detection "
   ]
  },
  {
   "cell_type": "code",
   "execution_count": 59,
   "id": "9497e760",
   "metadata": {},
   "outputs": [],
   "source": [
    "body_classifier = cv2.CascadeClassifier(\"documents/datasets for data science/opencv/haarcascade_fullbody.xml\")\n",
    "\n",
    "cap = cv2.VideoCapture(\"Videos/Movies/Friends With Benefits.mkv\")\n",
    "\n",
    "while cap.isOpened():\n",
    "    _,frame = cap.read()\n",
    "    gray = cv2.cvtColor(frame, cv2.COLOR_BGR2GRAY)\n",
    "    bodies = body_classifier.detectMultiScale(gray)\n",
    "    \n",
    "    \n",
    "    for (x,y,w,h) in bodies:\n",
    "        cv2.rectangle(frame,(x,y),(x+w,y+h),(127,200,255),2)\n",
    "        cv2.imshow(\"Humans\",frame)\n",
    "        \n",
    "    if cv2.waitKey(1) & 0xFF == ord('q'): #detection is stopped only if we press 'q' key\n",
    "        break\n",
    "            \n",
    "cap.release()\n",
    "cv2.destroyAllWindows()"
   ]
  },
  {
   "cell_type": "markdown",
   "id": "76df7bf6",
   "metadata": {},
   "source": [
    "## Car Detection"
   ]
  },
  {
   "cell_type": "code",
   "execution_count": 13,
   "id": "047d780b",
   "metadata": {},
   "outputs": [],
   "source": [
    "car_classifier = cv2.CascadeClassifier(\"documents/datasets for data science/opencv/haarcascade_car.xml\")\n",
    "\n",
    "car = cv2.VideoCapture(\"documents/datasets for data science/opencv/examples_ex_motion_detectors_comparison_video_cars.avi\")\n",
    "\n",
    "while car.isOpened():\n",
    "    _,frame = car.read()\n",
    "    gray = cv2.cvtColor(frame, cv2.COLOR_BGR2GRAY)\n",
    "    car_detection = car_classifier.detectMultiScale(gray)\n",
    "    \n",
    "    for (x,y,w,h) in car_detection:\n",
    "        cv2.rectangle(frame,(x,y),(x+w,y+h),(127,200,255),2)\n",
    "        cv2.imshow(\"car detection\", frame)\n",
    "    \n",
    "    if cv2.waitKey(1) & 0xFF == ord('q'): #detection is stopped only if we press 'q' key\n",
    "        break   \n",
    "    \n",
    "car.release()\n",
    "cv2.destroyAllWindows()       "
   ]
  },
  {
   "cell_type": "code",
   "execution_count": null,
   "id": "2e79ecc1",
   "metadata": {},
   "outputs": [],
   "source": []
  }
 ],
 "metadata": {
  "kernelspec": {
   "display_name": "Python 3 (ipykernel)",
   "language": "python",
   "name": "python3"
  },
  "language_info": {
   "codemirror_mode": {
    "name": "ipython",
    "version": 3
   },
   "file_extension": ".py",
   "mimetype": "text/x-python",
   "name": "python",
   "nbconvert_exporter": "python",
   "pygments_lexer": "ipython3",
   "version": "3.9.12"
  }
 },
 "nbformat": 4,
 "nbformat_minor": 5
}
